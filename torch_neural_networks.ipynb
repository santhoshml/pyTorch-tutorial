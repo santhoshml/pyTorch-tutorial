{
  "nbformat": 4,
  "nbformat_minor": 0,
  "metadata": {
    "colab": {
      "provenance": [],
      "authorship_tag": "ABX9TyPRDFZFvWv8J+lFfpHl7ODJ",
      "include_colab_link": true
    },
    "kernelspec": {
      "name": "python3",
      "display_name": "Python 3"
    },
    "language_info": {
      "name": "python"
    }
  },
  "cells": [
    {
      "cell_type": "markdown",
      "metadata": {
        "id": "view-in-github",
        "colab_type": "text"
      },
      "source": [
        "<a href=\"https://colab.research.google.com/github/santhoshml/pyTorch-tutorial/blob/main/torch_neural_networks.ipynb\" target=\"_parent\"><img src=\"https://colab.research.google.com/assets/colab-badge.svg\" alt=\"Open In Colab\"/></a>"
      ]
    },
    {
      "cell_type": "code",
      "execution_count": 54,
      "metadata": {
        "id": "HvUZmxp-N-k2"
      },
      "outputs": [],
      "source": [
        "import torch\n",
        "import torch.nn as nn\n",
        "import torch.nn.functional as F"
      ]
    },
    {
      "cell_type": "code",
      "source": [
        "class Model(nn.Module):\n",
        "    def __init__(self, in_features=4, h1=8, h2=9, out_features=3):\n",
        "        super().__init__()\n",
        "        self.fc1 = nn.Linear(in_features, h1)\n",
        "        self.fc2 = nn.Linear(h1, h2)\n",
        "        self.out = nn.Linear(h2, out_features)\n",
        "\n",
        "\n",
        "    def forward(self, x):\n",
        "        x = F.relu(self.fc1(x))\n",
        "        x = F.relu(self.fc2(x))\n",
        "        x = self.out(x)\n",
        "        return x"
      ],
      "metadata": {
        "id": "qyFHRE5AR8Ny"
      },
      "execution_count": 55,
      "outputs": []
    },
    {
      "cell_type": "code",
      "source": [
        "torch.manual_seed(32)\n",
        "model = Model()"
      ],
      "metadata": {
        "id": "zkbFEZDVhSIC"
      },
      "execution_count": 56,
      "outputs": []
    },
    {
      "cell_type": "code",
      "source": [
        "import pandas as pd\n",
        "import matplotlib.pyplot as plt\n",
        "%matplotlib inline"
      ],
      "metadata": {
        "id": "RgYlRLDLhkkw"
      },
      "execution_count": 57,
      "outputs": []
    },
    {
      "cell_type": "code",
      "source": [
        "url = \"https://gist.githubusercontent.com/netj/8836201/raw/6f9306ad21398ea43cba4f7d537619d0e07d5ae3/iris.csv\"\n",
        "my_df = pd.read_csv(url)\n"
      ],
      "metadata": {
        "id": "5TkbG0B7wR2s"
      },
      "execution_count": 58,
      "outputs": []
    },
    {
      "cell_type": "code",
      "source": [
        "my_df['variety'] = my_df['variety'].replace({'Setosa':0, 'Versicolor':1, 'Virginica':2})"
      ],
      "metadata": {
        "id": "ZU7tOae2wlmg"
      },
      "execution_count": 59,
      "outputs": []
    },
    {
      "cell_type": "code",
      "source": [
        "X=my_df.drop('variety', axis=1).values\n",
        "y=my_df['variety'].values"
      ],
      "metadata": {
        "id": "CnP52DPGw9c4"
      },
      "execution_count": 60,
      "outputs": []
    },
    {
      "cell_type": "code",
      "source": [
        "from sklearn.model_selection import train_test_split"
      ],
      "metadata": {
        "id": "WmKiBpk1xKoY"
      },
      "execution_count": 61,
      "outputs": []
    },
    {
      "cell_type": "code",
      "source": [
        "X_train, X_test, y_train, y_test = train_test_split(X, y, test_size=0.2, random_state=33)"
      ],
      "metadata": {
        "id": "0SA718zlxfKt"
      },
      "execution_count": 62,
      "outputs": []
    },
    {
      "cell_type": "code",
      "source": [
        "X_train = torch.FloatTensor(X_train)\n",
        "X_test =  torch.FloatTensor(X_test)"
      ],
      "metadata": {
        "id": "X6u5tL0AxtYm"
      },
      "execution_count": 63,
      "outputs": []
    },
    {
      "cell_type": "code",
      "source": [
        "y_train = torch.LongTensor(y_train)\n",
        "y_test = torch.LongTensor(y_test)\n"
      ],
      "metadata": {
        "id": "EYjzRUtEx6tf"
      },
      "execution_count": 64,
      "outputs": []
    },
    {
      "cell_type": "code",
      "source": [
        "criterion = nn.CrossEntropyLoss()\n",
        "optimizer = torch.optim.Adam(model.parameters(), lr=0.01)"
      ],
      "metadata": {
        "id": "WV1RwrjRyGc0"
      },
      "execution_count": 65,
      "outputs": []
    },
    {
      "cell_type": "code",
      "source": [
        "epochs = 200\n",
        "losses = []\n",
        "for i in range(epochs):\n",
        "    y_pred = model.forward(X_train)\n",
        "    loss = criterion(y_pred, y_train)\n",
        "    losses.append(loss.detach().numpy())\n",
        "    if i%10 == 0:\n",
        "        print(f'Epoch: {i} Loss: {loss}')\n",
        "    optimizer.zero_grad()\n",
        "    loss.backward()\n",
        "    optimizer.step()"
      ],
      "metadata": {
        "colab": {
          "base_uri": "https://localhost:8080/"
        },
        "id": "mcKFcCv9zKhN",
        "outputId": "6ac34466-85e5-434a-9979-db4198d59d36"
      },
      "execution_count": 66,
      "outputs": [
        {
          "output_type": "stream",
          "name": "stdout",
          "text": [
            "Epoch: 0 Loss: 1.1507450342178345\n",
            "Epoch: 10 Loss: 0.9371448755264282\n",
            "Epoch: 20 Loss: 0.7796241641044617\n",
            "Epoch: 30 Loss: 0.6078532338142395\n",
            "Epoch: 40 Loss: 0.39894530177116394\n",
            "Epoch: 50 Loss: 0.2524920105934143\n",
            "Epoch: 60 Loss: 0.14927689731121063\n",
            "Epoch: 70 Loss: 0.10029558837413788\n",
            "Epoch: 80 Loss: 0.08100690692663193\n",
            "Epoch: 90 Loss: 0.07216039299964905\n",
            "Epoch: 100 Loss: 0.06702519208192825\n",
            "Epoch: 110 Loss: 0.06347121298313141\n",
            "Epoch: 120 Loss: 0.06077784672379494\n",
            "Epoch: 130 Loss: 0.05864360183477402\n",
            "Epoch: 140 Loss: 0.05689997598528862\n",
            "Epoch: 150 Loss: 0.05543999373912811\n",
            "Epoch: 160 Loss: 0.05419067665934563\n",
            "Epoch: 170 Loss: 0.05310143530368805\n",
            "Epoch: 180 Loss: 0.052137620747089386\n",
            "Epoch: 190 Loss: 0.05127498134970665\n"
          ]
        }
      ]
    },
    {
      "cell_type": "code",
      "source": [
        "plt.plot(range(epochs), losses)\n",
        "plt.ylabel('Loss')\n",
        "plt.xlabel('Epoch')"
      ],
      "metadata": {
        "colab": {
          "base_uri": "https://localhost:8080/",
          "height": 470
        },
        "id": "FOJGcm1F91Mf",
        "outputId": "3eb7a243-f8c5-4890-b932-f7c9ddac4252"
      },
      "execution_count": 67,
      "outputs": [
        {
          "output_type": "execute_result",
          "data": {
            "text/plain": [
              "Text(0.5, 0, 'Epoch')"
            ]
          },
          "metadata": {},
          "execution_count": 67
        },
        {
          "output_type": "display_data",
          "data": {
            "text/plain": [
              "<Figure size 640x480 with 1 Axes>"
            ],
            "image/png": "[encoded data removed]"
          },
          "metadata": {}
        }
      ]
    },
    {
      "cell_type": "code",
      "source": [
        "with torch.no_grad():\n",
        "    y_eval = model.forward(X_test)\n",
        "    loss = criterion(y_eval, y_test)"
      ],
      "metadata": {
        "id": "hkPGfjj-Iis8"
      },
      "execution_count": 68,
      "outputs": []
    },
    {
      "cell_type": "code",
      "source": [
        "loss"
      ],
      "metadata": {
        "colab": {
          "base_uri": "https://localhost:8080/"
        },
        "id": "41xS3O4iItxz",
        "outputId": "663ff5f7-3f58-44ce-f4f7-b2f787cfd562"
      },
      "execution_count": 69,
      "outputs": [
        {
          "output_type": "execute_result",
          "data": {
            "text/plain": [
              "tensor(0.0439)"
            ]
          },
          "metadata": {},
          "execution_count": 69
        }
      ]
    },
    {
      "cell_type": "code",
      "source": [
        "new_iris = torch.Tensor([[5.1, 3.5, 1.4, 0.2]])"
      ],
      "metadata": {
        "id": "qGRJuUmTIY90"
      },
      "execution_count": 70,
      "outputs": []
    },
    {
      "cell_type": "code",
      "source": [
        "with torch.no_grad():\n",
        "    prediction = model.forward(new_iris)\n",
        "    print(str(prediction))"
      ],
      "metadata": {
        "colab": {
          "base_uri": "https://localhost:8080/"
        },
        "id": "ZecgYnjTIjE-",
        "outputId": "3b3ec054-4e9b-4a68-d940-e727b80f83e9"
      },
      "execution_count": 73,
      "outputs": [
        {
          "output_type": "stream",
          "name": "stdout",
          "text": [
            "tensor([[  8.9539,   1.1038, -13.4866]])\n"
          ]
        }
      ]
    },
    {
      "cell_type": "code",
      "source": [
        "torch.save(model.state_dict(), 'iris_model.pt')"
      ],
      "metadata": {
        "id": "rU1eazwpI9zr"
      },
      "execution_count": 74,
      "outputs": []
    },
    {
      "cell_type": "code",
      "source": [
        "new_model = Model()\n",
        "new_model.load_state_dict(torch.load('iris_model.pt'))"
      ],
      "metadata": {
        "colab": {
          "base_uri": "https://localhost:8080/"
        },
        "id": "u2qV9ghWJUmT",
        "outputId": "de7824d5-1448-4021-b5b9-d6c463f4cffc"
      },
      "execution_count": 75,
      "outputs": [
        {
          "output_type": "execute_result",
          "data": {
            "text/plain": [
              "<All keys matched successfully>"
            ]
          },
          "metadata": {},
          "execution_count": 75
        }
      ]
    },
    {
      "cell_type": "code",
      "source": [
        "new_model.eval()"
      ],
      "metadata": {
        "colab": {
          "base_uri": "https://localhost:8080/"
        },
        "id": "PRGpjvrAJokc",
        "outputId": "47fb3215-41ae-4ef7-b8c7-49da356c1cd7"
      },
      "execution_count": 76,
      "outputs": [
        {
          "output_type": "execute_result",
          "data": {
            "text/plain": [
              "Model(\n",
              "  (fc1): Linear(in_features=4, out_features=8, bias=True)\n",
              "  (fc2): Linear(in_features=8, out_features=9, bias=True)\n",
              "  (out): Linear(in_features=9, out_features=3, bias=True)\n",
              ")"
            ]
          },
          "metadata": {},
          "execution_count": 76
        }
      ]
    }
  ]
}